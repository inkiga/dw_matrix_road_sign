{
  "nbformat": 4,
  "nbformat_minor": 0,
  "metadata": {
    "colab": {
      "name": "matrix_3_5.ipynb",
      "provenance": [],
      "mount_file_id": "14NTlfZas8vDzAjiNic1acDCvb7uTgM9o",
      "authorship_tag": "ABX9TyNQfac7ZyaqcxOLtjYfOcWH",
      "include_colab_link": true
    },
    "kernelspec": {
      "name": "python3",
      "display_name": "Python 3"
    },
    "accelerator": "GPU"
  },
  "cells": [
    {
      "cell_type": "markdown",
      "metadata": {
        "id": "view-in-github",
        "colab_type": "text"
      },
      "source": [
        "<a href=\"https://colab.research.google.com/github/inkiga/dw_matrix_road_sign/blob/master/matrix_3_5.ipynb\" target=\"_parent\"><img src=\"https://colab.research.google.com/assets/colab-badge.svg\" alt=\"Open In Colab\"/></a>"
      ]
    },
    {
      "cell_type": "code",
      "metadata": {
        "id": "ye181MPYuPI-",
        "colab_type": "code",
        "outputId": "015559fc-3b91-4243-f2bd-e1ddeb7d49fe",
        "colab": {
          "base_uri": "https://localhost:8080/",
          "height": 176
        }
      },
      "source": [
        "!pip install hyperopt"
      ],
      "execution_count": 0,
      "outputs": [
        {
          "output_type": "stream",
          "text": [
            "Requirement already satisfied: hyperopt in /usr/local/lib/python3.6/dist-packages (0.1.2)\n",
            "Requirement already satisfied: six in /usr/local/lib/python3.6/dist-packages (from hyperopt) (1.12.0)\n",
            "Requirement already satisfied: numpy in /usr/local/lib/python3.6/dist-packages (from hyperopt) (1.18.2)\n",
            "Requirement already satisfied: scipy in /usr/local/lib/python3.6/dist-packages (from hyperopt) (1.4.1)\n",
            "Requirement already satisfied: networkx in /usr/local/lib/python3.6/dist-packages (from hyperopt) (2.4)\n",
            "Requirement already satisfied: pymongo in /usr/local/lib/python3.6/dist-packages (from hyperopt) (3.10.1)\n",
            "Requirement already satisfied: tqdm in /usr/local/lib/python3.6/dist-packages (from hyperopt) (4.38.0)\n",
            "Requirement already satisfied: future in /usr/local/lib/python3.6/dist-packages (from hyperopt) (0.16.0)\n",
            "Requirement already satisfied: decorator>=4.3.0 in /usr/local/lib/python3.6/dist-packages (from networkx->hyperopt) (4.4.2)\n"
          ],
          "name": "stdout"
        }
      ]
    },
    {
      "cell_type": "code",
      "metadata": {
        "id": "nxPLsVkSujpW",
        "colab_type": "code",
        "outputId": "3791d1e1-9389-4a02-9ba1-36e15441de48",
        "colab": {
          "base_uri": "https://localhost:8080/",
          "height": 52
        }
      },
      "source": [
        "import pandas as pd\n",
        "import numpy as np\n",
        "\n",
        "import os\n",
        "import datetime\n",
        "\n",
        "import tensorflow as tf\n",
        "from tensorflow.keras.models import Sequential\n",
        "from tensorflow.keras.layers import Conv2D, MaxPool2D, Dense, Flatten, Dropout\n",
        "from tensorflow.keras.utils import to_categorical\n",
        "\n",
        "%load_ext tensorboard\n",
        "\n",
        "import matplotlib.pyplot as plt\n",
        "from skimage import color, exposure\n",
        "\n",
        "from sklearn.metrics import accuracy_score\n",
        "\n",
        "from hyperopt import hp, STATUS_OK, tpe, Trials, fmin"
      ],
      "execution_count": 0,
      "outputs": [
        {
          "output_type": "stream",
          "text": [
            "The tensorboard extension is already loaded. To reload it, use:\n",
            "  %reload_ext tensorboard\n"
          ],
          "name": "stdout"
        }
      ]
    },
    {
      "cell_type": "code",
      "metadata": {
        "id": "A6A34934uulZ",
        "colab_type": "code",
        "outputId": "852f747d-7740-493f-ad80-09b9677bec4d",
        "colab": {
          "base_uri": "https://localhost:8080/",
          "height": 34
        }
      },
      "source": [
        "cd '/content/drive/My Drive/Colab Notebooks/dw_matrix/matrix_three/dw_matrix_road_sign'"
      ],
      "execution_count": 0,
      "outputs": [
        {
          "output_type": "stream",
          "text": [
            "/content/drive/My Drive/Colab Notebooks/dw_matrix/matrix_three/dw_matrix_road_sign\n"
          ],
          "name": "stdout"
        }
      ]
    },
    {
      "cell_type": "code",
      "metadata": {
        "id": "NB7ruaxnuwu1",
        "colab_type": "code",
        "colab": {}
      },
      "source": [
        "train = pd.read_pickle('data/train.p')\n",
        "test = pd.read_pickle('data/test.p')\n",
        "\n",
        "X_train, y_train = train['features'], train['labels']\n",
        "X_test, y_test = test['features'], test['labels']"
      ],
      "execution_count": 0,
      "outputs": []
    },
    {
      "cell_type": "code",
      "metadata": {
        "id": "BFDTfM8nu1Kn",
        "colab_type": "code",
        "colab": {}
      },
      "source": [
        "if y_train.ndim == 1: y_train = to_categorical(y_train)\n",
        "if y_test.ndim == 1: y_test = to_categorical(y_test)\n",
        "\n",
        "input_shape = X_train.shape[1:]\n",
        "num_classes = y_train.shape[1]"
      ],
      "execution_count": 0,
      "outputs": []
    },
    {
      "cell_type": "code",
      "metadata": {
        "id": "CmgoREfGvAOK",
        "colab_type": "code",
        "colab": {}
      },
      "source": [
        "def train_model(model, X_train, y_train, params_fit={}):\n",
        "  model.compile(loss='categorical_crossentropy', optimizer='Adam', metrics=['accuracy'])\n",
        "\n",
        "  logdir = os.path.join(\"logs\", datetime.datetime.now().strftime(\"%Y%m%d-%H%M%S\"))\n",
        "  tensorboard_callback = tf.keras.callbacks.TensorBoard(logdir, histogram_freq=1)\n",
        "  \n",
        "  model.fit(\n",
        "      X_train, \n",
        "      y_train,\n",
        "      batch_size = params_fit.get('batch_size',128),\n",
        "      epochs = params_fit.get('epochs', 5),\n",
        "      verbose = params_fit.get('verbose', 1),\n",
        "      validation_data = params_fit.get('validation_data', (X_train, y_train)),\n",
        "      callbacks = [tensorboard_callback]\n",
        "      )\n",
        "  \n",
        "  return model\n",
        "\n",
        "def predict(model_trained, X_test, y_test, scoring = accuracy_score):\n",
        "\n",
        "  y_test_norm = np.argmax(y_test, axis = 1)\n",
        "\n",
        "  y_pred_prob = model_trained.predict(X_test)\n",
        "  y_pred = np.argmax(y_pred_prob, axis =1)\n",
        "\n",
        "  return accuracy_score(y_test_norm, y_pred)"
      ],
      "execution_count": 0,
      "outputs": []
    },
    {
      "cell_type": "code",
      "metadata": {
        "id": "9IpExqU5vREc",
        "colab_type": "code",
        "colab": {}
      },
      "source": [
        "def get_cnn_v5(input_shape, num_classes):\n",
        "  return Sequential([\n",
        "  Conv2D(filters = 32, kernel_size=(3,3), activation='relu', input_shape = input_shape),\n",
        "  Conv2D(filters = 32, kernel_size=(3,3), activation='relu',padding='same'),\n",
        "  MaxPool2D(),\n",
        "  Dropout(0.3),\n",
        "  \n",
        "  Conv2D(filters = 64, kernel_size=(3,3), activation='relu', padding='same'),\n",
        "  Conv2D(filters = 64, kernel_size=(3,3), activation='relu'),\n",
        "  MaxPool2D(),\n",
        "  Dropout(0.3),\n",
        "  \n",
        "  Conv2D(filters = 64, kernel_size=(3,3), activation='relu', padding='same'),\n",
        "  Conv2D(filters = 64, kernel_size=(3,3), activation='relu'),\n",
        "  MaxPool2D(),\n",
        "  Dropout(0.3),\n",
        "  \n",
        "  Flatten(),\n",
        "  \n",
        "  Dense(1024, activation = 'relu'),\n",
        "  Dropout(0.3),\n",
        "\n",
        "  Dense(1024, activation = 'relu'),\n",
        "  Dropout(0.3),\n",
        "  \n",
        "  Dense(num_classes, activation = 'softmax'),            \n",
        "])\n"
      ],
      "execution_count": 0,
      "outputs": []
    },
    {
      "cell_type": "code",
      "metadata": {
        "id": "v-2VxVlNvnox",
        "colab_type": "code",
        "outputId": "2e820e9d-11e9-4ab3-f6ef-604a0dba1520",
        "colab": {
          "base_uri": "https://localhost:8080/",
          "height": 212
        }
      },
      "source": [
        "model = get_cnn_v5(input_shape, num_classes) \n",
        "model_trained = train_model(model, X_train, y_train)\n",
        "\n",
        "predict(model_trained, X_test, y_test)"
      ],
      "execution_count": 0,
      "outputs": [
        {
          "output_type": "stream",
          "text": [
            "Epoch 1/5\n",
            "272/272 [==============================] - 4s 15ms/step - loss: 2.3579 - accuracy: 0.3362 - val_loss: 0.7638 - val_accuracy: 0.7646\n",
            "Epoch 2/5\n",
            "272/272 [==============================] - 4s 14ms/step - loss: 0.6543 - accuracy: 0.7903 - val_loss: 0.1481 - val_accuracy: 0.9591\n",
            "Epoch 3/5\n",
            "272/272 [==============================] - 4s 14ms/step - loss: 0.3076 - accuracy: 0.9042 - val_loss: 0.0846 - val_accuracy: 0.9759\n",
            "Epoch 4/5\n",
            "272/272 [==============================] - 4s 14ms/step - loss: 0.2048 - accuracy: 0.9395 - val_loss: 0.0352 - val_accuracy: 0.9898\n",
            "Epoch 5/5\n",
            "272/272 [==============================] - 4s 14ms/step - loss: 0.1618 - accuracy: 0.9531 - val_loss: 0.0324 - val_accuracy: 0.9911\n"
          ],
          "name": "stdout"
        },
        {
          "output_type": "execute_result",
          "data": {
            "text/plain": [
              "0.9684807256235828"
            ]
          },
          "metadata": {
            "tags": []
          },
          "execution_count": 13
        }
      ]
    },
    {
      "cell_type": "code",
      "metadata": {
        "id": "toAFTYw2wZS7",
        "colab_type": "code",
        "colab": {}
      },
      "source": [
        "def func_obj(params):\n",
        "\n",
        "  model = get_cnn_v5(input_shape, num_classes)\n",
        "  model.compile(loss='categorical_crossentropy', optimizer='Adam', metrics=['accuracy'])\n",
        "  \n",
        "  model.fit(\n",
        "      X_train, \n",
        "      y_train,\n",
        "      batch_size = int(params.get('batch_size',128)),\n",
        "      epochs = 7,\n",
        "      verbose = 0,\n",
        "  )\n",
        "  \n",
        "  accuracy = model.evaluate(X_test, y_test)[0]\n",
        "  print(params, 'accuracy={}'.format(accuracy))\n",
        "\n",
        "  return {'loss': -accuracy, 'status': STATUS_OK, 'model': model}"
      ],
      "execution_count": 0,
      "outputs": []
    },
    {
      "cell_type": "code",
      "metadata": {
        "id": "zjPUmoE1zTSg",
        "colab_type": "code",
        "outputId": "63682da9-4bb0-4aa9-fb21-e01a35c6c2cb",
        "colab": {
          "base_uri": "https://localhost:8080/",
          "height": 354
        }
      },
      "source": [
        "space = {\n",
        "    'batch_size': hp.quniform('batch_size', 50, 200, 20)\n",
        "}\n",
        "\n",
        "best = fmin(\n",
        "    func_obj,\n",
        "    space,\n",
        "    tpe.suggest,\n",
        "    1,\n",
        "    Trials(),\n",
        ")"
      ],
      "execution_count": 0,
      "outputs": [
        {
          "output_type": "stream",
          "text": [
            "  1/138 [..............................]\n",
            " - ETA: 0s - loss: 0.3378 - accuracy: 0.9062\n",
            "\b\b\b\b\b\b\b\b\b\b\b\b\b\b\b\b\b\b\b\b\b\b\b\b\b\b\b\b\b\b\b\b\b\b\b\b\b\b\b\b\b\b\b\b\b\b\b\b\b\b\b\b\b\b\b\b\b\b\b\b\b\b\b\b\b\b\b\b\b\b\b\b\b\b\b\b\b\b\b\b\b\b\b\b\n",
            " 12/138 [=>............................]\n",
            " - ETA: 0s - loss: 0.0640 - accuracy: 0.9818\n",
            "\b\b\b\b\b\b\b\b\b\b\b\b\b\b\b\b\b\b\b\b\b\b\b\b\b\b\b\b\b\b\b\b\b\b\b\b\b\b\b\b\b\b\b\b\b\b\b\b\b\b\b\b\b\b\b\b\b\b\b\b\b\b\b\b\b\b\b\b\b\b\b\b\b\b\b\b\b\b\b\b\b\b\b\b\n",
            " 24/138 [====>.........................]\n",
            " - ETA: 0s - loss: 0.1852 - accuracy: 0.9453\n",
            "\b\b\b\b\b\b\b\b\b\b\b\b\b\b\b\b\b\b\b\b\b\b\b\b\b\b\b\b\b\b\b\b\b\b\b\b\b\b\b\b\b\b\b\b\b\b\b\b\b\b\b\b\b\b\b\b\b\b\b\b\b\b\b\b\b\b\b\b\b\b\b\b\b\b\b\b\b\b\b\b\b\b\b\b\n",
            " 37/138 [=======>......................]\n",
            " - ETA: 0s - loss: 0.1249 - accuracy: 0.9628\n",
            "\b\b\b\b\b\b\b\b\b\b\b\b\b\b\b\b\b\b\b\b\b\b\b\b\b\b\b\b\b\b\b\b\b\b\b\b\b\b\b\b\b\b\b\b\b\b\b\b\b\b\b\b\b\b\b\b\b\b\b\b\b\b\b\b\b\b\b\b\b\b\b\b\b\b\b\b\b\b\b\b\b\b\b\b\n",
            " 49/138 [=========>....................]\n",
            " - ETA: 0s - loss: 0.1237 - accuracy: 0.9643\n",
            "\b\b\b\b\b\b\b\b\b\b\b\b\b\b\b\b\b\b\b\b\b\b\b\b\b\b\b\b\b\b\b\b\b\b\b\b\b\b\b\b\b\b\b\b\b\b\b\b\b\b\b\b\b\b\b\b\b\b\b\b\b\b\b\b\b\b\b\b\b\b\b\b\b\b\b\b\b\b\b\b\b\b\b\b\n",
            " 62/138 [============>.................]\n",
            " - ETA: 0s - loss: 0.1579 - accuracy: 0.9597\n",
            "\b\b\b\b\b\b\b\b\b\b\b\b\b\b\b\b\b\b\b\b\b\b\b\b\b\b\b\b\b\b\b\b\b\b\b\b\b\b\b\b\b\b\b\b\b\b\b\b\b\b\b\b\b\b\b\b\b\b\b\b\b\b\b\b\b\b\b\b\b\b\b\b\b\b\b\b\b\b\b\b\b\b\b\b\n",
            " 73/138 [==============>...............]\n",
            " - ETA: 0s - loss: 0.1454 - accuracy: 0.9615\n",
            "\b\b\b\b\b\b\b\b\b\b\b\b\b\b\b\b\b\b\b\b\b\b\b\b\b\b\b\b\b\b\b\b\b\b\b\b\b\b\b\b\b\b\b\b\b\b\b\b\b\b\b\b\b\b\b\b\b\b\b\b\b\b\b\b\b\b\b\b\b\b\b\b\b\b\b\b\b\b\b\b\b\b\b\b\n",
            " 83/138 [=================>............]\n",
            " - ETA: 0s - loss: 0.1293 - accuracy: 0.9657\n",
            "\b\b\b\b\b\b\b\b\b\b\b\b\b\b\b\b\b\b\b\b\b\b\b\b\b\b\b\b\b\b\b\b\b\b\b\b\b\b\b\b\b\b\b\b\b\b\b\b\b\b\b\b\b\b\b\b\b\b\b\b\b\b\b\b\b\b\b\b\b\b\b\b\b\b\b\b\b\b\b\b\b\b\b\b\n",
            " 94/138 [===================>..........]\n",
            " - ETA: 0s - loss: 0.1205 - accuracy: 0.9684\n",
            "\b\b\b\b\b\b\b\b\b\b\b\b\b\b\b\b\b\b\b\b\b\b\b\b\b\b\b\b\b\b\b\b\b\b\b\b\b\b\b\b\b\b\b\b\b\b\b\b\b\b\b\b\b\b\b\b\b\b\b\b\b\b\b\b\b\b\b\b\b\b\b\b\b\b\b\b\b\b\b\b\b\b\b\b\n",
            "105/138 [=====================>........]\n",
            " - ETA: 0s - loss: 0.1253 - accuracy: 0.9670\n",
            "\b\b\b\b\b\b\b\b\b\b\b\b\b\b\b\b\b\b\b\b\b\b\b\b\b\b\b\b\b\b\b\b\b\b\b\b\b\b\b\b\b\b\b\b\b\b\b\b\b\b\b\b\b\b\b\b\b\b\b\b\b\b\b\b\b\b\b\b\b\b\b\b\b\b\b\b\b\b\b\b\b\b\b\b\n",
            "114/138 [=======================>......]\n",
            " - ETA: 0s - loss: 0.1246 - accuracy: 0.9682\n",
            "\b\b\b\b\b\b\b\b\b\b\b\b\b\b\b\b\b\b\b\b\b\b\b\b\b\b\b\b\b\b\b\b\b\b\b\b\b\b\b\b\b\b\b\b\b\b\b\b\b\b\b\b\b\b\b\b\b\b\b\b\b\b\b\b\b\b\b\b\b\b\b\b\b\b\b\b\b\b\b\b\b\b\b\b\n",
            "122/138 [=========================>....]\n",
            " - ETA: 0s - loss: 0.1175 - accuracy: 0.9698\n",
            "\b\b\b\b\b\b\b\b\b\b\b\b\b\b\b\b\b\b\b\b\b\b\b\b\b\b\b\b\b\b\b\b\b\b\b\b\b\b\b\b\b\b\b\b\b\b\b\b\b\b\b\b\b\b\b\b\b\b\b\b\b\b\b\b\b\b\b\b\b\b\b\b\b\b\b\b\b\b\b\b\b\b\b\b\n",
            "132/138 [===========================>..]\n",
            " - ETA: 0s - loss: 0.1101 - accuracy: 0.9718\n",
            "\b\b\b\b\b\b\b\b\b\b\b\b\b\b\b\b\b\b\b\b\b\b\b\b\b\b\b\b\b\b\b\b\b\b\b\b\b\b\b\b\b\b\b\b\b\b\b\b\b\b\b\b\b\b\b\b\b\b\b\b\b\b\b\b\b\b\b\b\b\b\b\b\b\b\b\b\b\b\b\b\b\b\b\b\n",
            "138/138 [==============================]\n",
            " - 1s 5ms/step - loss: 0.1061 - accuracy: 0.9730\n",
            "\n",
            "{'batch_size': 80.0}\n",
            "accuracy=0.10606443881988525\n",
            "100%|██████████| 1/1 [00:17<00:00, 17.39s/it, best loss: -0.10606443881988525]\n"
          ],
          "name": "stdout"
        }
      ]
    },
    {
      "cell_type": "code",
      "metadata": {
        "id": "KMVXpE3S0ZkP",
        "colab_type": "code",
        "colab": {}
      },
      "source": [
        "def get_model(params):\n",
        "  return Sequential([\n",
        "    Conv2D(filters = 32, kernel_size=(3,3), activation='relu', input_shape = input_shape),\n",
        "    Conv2D(filters = 32, kernel_size=(3,3), activation='relu', padding='same'),\n",
        "    MaxPool2D(),\n",
        "    Dropout(params['dropout_cnn_block_one']),\n",
        "    \n",
        "    Conv2D(filters = 64, kernel_size=(3,3), activation='relu', padding='same'),\n",
        "    Conv2D(filters = 64, kernel_size=(3,3), activation='relu'),\n",
        "    MaxPool2D(),\n",
        "    Dropout(params['dropout_cnn_block_two']),\n",
        "    \n",
        "    Conv2D(filters = 128, kernel_size=(3,3), activation='relu', padding='same'),\n",
        "    Conv2D(filters = 128, kernel_size=(3,3), activation='relu'),\n",
        "    MaxPool2D(),\n",
        "    Dropout(params['dropout_cnn_block_three']),\n",
        "    \n",
        "    Flatten(),\n",
        "    \n",
        "    Dense(1024, activation = 'relu'),\n",
        "    Dropout(params['dropout_dense_block_one']),\n",
        "\n",
        "    Dense(1024, activation = 'relu'),\n",
        "    Dropout(params['dropout_dense_block_two']),\n",
        "    \n",
        "    Dense(num_classes, activation = 'softmax'),            \n",
        "  ])"
      ],
      "execution_count": 0,
      "outputs": []
    },
    {
      "cell_type": "code",
      "metadata": {
        "id": "uN2MnYhL28Eo",
        "colab_type": "code",
        "colab": {}
      },
      "source": [
        "def func_obj(params):\n",
        "\n",
        "  model = get_model(params)\n",
        "  model.compile(loss='categorical_crossentropy', optimizer='Adam', metrics=['accuracy'])\n",
        "  \n",
        "  model.fit(\n",
        "      X_train, \n",
        "      y_train,\n",
        "      batch_size = int(params.get('batch_size',128)),\n",
        "      epochs = 5,\n",
        "      verbose = 0,\n",
        "  )\n",
        "  \n",
        "  score = model.evaluate(X_test, y_test, verbose = 0)\n",
        "  accuracy = score[1]\n",
        "  print(params, 'accuracy={}'.format(accuracy))\n",
        "\n",
        "  return {'loss': -accuracy, 'status': STATUS_OK, 'model': model}"
      ],
      "execution_count": 0,
      "outputs": []
    },
    {
      "cell_type": "code",
      "metadata": {
        "id": "LX3qh2532AD5",
        "colab_type": "code",
        "outputId": "37492245-c020-4d00-f900-dff6371e4a8a",
        "colab": {
          "base_uri": "https://localhost:8080/",
          "height": 1000
        }
      },
      "source": [
        "space = {\n",
        "    'batch_size': hp.quniform('batch_size', 100, 200, 10),\n",
        "    'dropout_cnn_block_one': hp.uniform('dropout_cnn_block_one', 0.3, 0.5),\n",
        "    'dropout_cnn_block_two': hp.uniform('dropout_cnn_block_two', 0.3, 0.5),\n",
        "    'dropout_cnn_block_three': hp.uniform('dropout_cnn_block_three', 0.3, 0.5),\n",
        "\n",
        "    'dropout_dense_block_one': hp.uniform('dropout_dense_block_one', 0.3, 0.7),\n",
        "    'dropout_dense_block_two': hp.uniform('dropout_dense_block_two', 0.3, 0.7),\n",
        "}\n",
        "\n",
        "best = fmin(\n",
        "    func_obj,\n",
        "    space,\n",
        "    tpe.suggest,\n",
        "    30,\n",
        "    Trials()\n",
        ")"
      ],
      "execution_count": 0,
      "outputs": [
        {
          "output_type": "stream",
          "text": [
            "{'batch_size': 130.0, 'dropout_cnn_block_one': 0.31461250060588536, 'dropout_cnn_block_three': 0.45689920463570993, 'dropout_cnn_block_two': 0.48180392463977356, 'dropout_dense_block_one': 0.4475642221122457, 'dropout_dense_block_two': 0.316625182051313}\n",
            "accuracy=0.9478458166122437\n",
            "{'batch_size': 130.0, 'dropout_cnn_block_one': 0.4363661169102373, 'dropout_cnn_block_three': 0.41272279172507453, 'dropout_cnn_block_two': 0.49103814303174764, 'dropout_dense_block_one': 0.45865047469791825, 'dropout_dense_block_two': 0.30949994231377187}\n",
            "accuracy=0.934920608997345\n",
            "{'batch_size': 190.0, 'dropout_cnn_block_one': 0.41013708359754, 'dropout_cnn_block_three': 0.34769595895806654, 'dropout_cnn_block_two': 0.49982623139687105, 'dropout_dense_block_one': 0.6078454375510907, 'dropout_dense_block_two': 0.5462198578957219}\n",
            "accuracy=0.8891156315803528\n",
            "{'batch_size': 170.0, 'dropout_cnn_block_one': 0.390032537772953, 'dropout_cnn_block_three': 0.4582452005107333, 'dropout_cnn_block_two': 0.39446337163157, 'dropout_dense_block_one': 0.6125422864259875, 'dropout_dense_block_two': 0.44977102269924996}\n",
            "accuracy=0.9265305995941162\n",
            "{'batch_size': 110.0, 'dropout_cnn_block_one': 0.38470617068532054, 'dropout_cnn_block_three': 0.43390977100444555, 'dropout_cnn_block_two': 0.3193911647083441, 'dropout_dense_block_one': 0.4606722213322779, 'dropout_dense_block_two': 0.3292292043770653}\n",
            "accuracy=0.9435374140739441\n",
            "{'batch_size': 200.0, 'dropout_cnn_block_one': 0.4946266838557331, 'dropout_cnn_block_three': 0.3828832709796754, 'dropout_cnn_block_two': 0.43183309870003417, 'dropout_dense_block_one': 0.35362840296354114, 'dropout_dense_block_two': 0.5586523958581513}\n",
            "accuracy=0.9142857193946838\n",
            "{'batch_size': 100.0, 'dropout_cnn_block_one': 0.3413570027414931, 'dropout_cnn_block_three': 0.41126633171806454, 'dropout_cnn_block_two': 0.49696553666628074, 'dropout_dense_block_one': 0.5674980536395766, 'dropout_dense_block_two': 0.6394134820734072}\n",
            "accuracy=0.8841269612312317\n",
            "{'batch_size': 170.0, 'dropout_cnn_block_one': 0.37535275197658924, 'dropout_cnn_block_three': 0.40705581681628994, 'dropout_cnn_block_two': 0.39096899264556784, 'dropout_dense_block_one': 0.335365389993039, 'dropout_dense_block_two': 0.32112641511057727}\n",
            "accuracy=0.9707483053207397\n",
            "{'batch_size': 190.0, 'dropout_cnn_block_one': 0.3266079005510218, 'dropout_cnn_block_three': 0.32016339808717503, 'dropout_cnn_block_two': 0.38313714977486757, 'dropout_dense_block_one': 0.3470022366207966, 'dropout_dense_block_two': 0.4436157076028969}\n",
            "accuracy=0.956462562084198\n",
            "{'batch_size': 170.0, 'dropout_cnn_block_one': 0.35642835587956895, 'dropout_cnn_block_three': 0.39655758418138326, 'dropout_cnn_block_two': 0.31026575788679395, 'dropout_dense_block_one': 0.6822090832126372, 'dropout_dense_block_two': 0.4052092470361819}\n",
            "accuracy=0.9319728016853333\n",
            "{'batch_size': 110.0, 'dropout_cnn_block_one': 0.4061459662743022, 'dropout_cnn_block_three': 0.45648401156121626, 'dropout_cnn_block_two': 0.47741470774257977, 'dropout_dense_block_one': 0.4277994086359756, 'dropout_dense_block_two': 0.6653891771576553}\n",
            "accuracy=0.9303854703903198\n",
            "{'batch_size': 120.0, 'dropout_cnn_block_one': 0.41121322297989354, 'dropout_cnn_block_three': 0.36694963603297603, 'dropout_cnn_block_two': 0.36156167342628726, 'dropout_dense_block_one': 0.35801783481871624, 'dropout_dense_block_two': 0.32969875652342223}\n",
            "accuracy=0.9675737023353577\n",
            "{'batch_size': 110.0, 'dropout_cnn_block_one': 0.3684703179644444, 'dropout_cnn_block_three': 0.48130080394288344, 'dropout_cnn_block_two': 0.3758262058783688, 'dropout_dense_block_one': 0.6871528888942617, 'dropout_dense_block_two': 0.35269545727936386}\n",
            "accuracy=0.8369614481925964\n",
            "{'batch_size': 110.0, 'dropout_cnn_block_one': 0.3325163917665341, 'dropout_cnn_block_three': 0.45131410481971185, 'dropout_cnn_block_two': 0.3057562071375235, 'dropout_dense_block_one': 0.6168610882923501, 'dropout_dense_block_two': 0.6400460235407726}\n",
            "accuracy=0.8224489688873291\n",
            "{'batch_size': 140.0, 'dropout_cnn_block_one': 0.46140630260680804, 'dropout_cnn_block_three': 0.40765570022683284, 'dropout_cnn_block_two': 0.3381774123307313, 'dropout_dense_block_one': 0.3364841782625231, 'dropout_dense_block_two': 0.5252560547984978}\n",
            "accuracy=0.9712018370628357\n",
            "{'batch_size': 130.0, 'dropout_cnn_block_one': 0.4184698992940301, 'dropout_cnn_block_three': 0.30743951451997437, 'dropout_cnn_block_two': 0.33103913247826655, 'dropout_dense_block_one': 0.35329933390330837, 'dropout_dense_block_two': 0.4331858180390779}\n",
            "accuracy=0.9530612230300903\n",
            "{'batch_size': 110.0, 'dropout_cnn_block_one': 0.35071987826316964, 'dropout_cnn_block_three': 0.4539230588461569, 'dropout_cnn_block_two': 0.48353776814786736, 'dropout_dense_block_one': 0.6722518939334496, 'dropout_dense_block_two': 0.5687026057215397}\n",
            "accuracy=0.8621315360069275\n",
            "{'batch_size': 180.0, 'dropout_cnn_block_one': 0.357373678676989, 'dropout_cnn_block_three': 0.4472882103161343, 'dropout_cnn_block_two': 0.3775514739380837, 'dropout_dense_block_one': 0.5632830122721044, 'dropout_dense_block_two': 0.3742998709732889}\n",
            "accuracy=0.8954648375511169\n",
            "{'batch_size': 120.0, 'dropout_cnn_block_one': 0.47364697007969075, 'dropout_cnn_block_three': 0.3633249312657333, 'dropout_cnn_block_two': 0.3064914523023058, 'dropout_dense_block_one': 0.5107669689019089, 'dropout_dense_block_two': 0.3109486983651846}\n",
            "accuracy=0.9575963616371155\n",
            "{'batch_size': 170.0, 'dropout_cnn_block_one': 0.4471024959746822, 'dropout_cnn_block_three': 0.3897193562611489, 'dropout_cnn_block_two': 0.30867466007614536, 'dropout_dense_block_one': 0.4360700896271663, 'dropout_dense_block_two': 0.31150600376421844}\n",
            "accuracy=0.9603174328804016\n",
            "{'batch_size': 150.0, 'dropout_cnn_block_one': 0.498246013341028, 'dropout_cnn_block_three': 0.42369613847703996, 'dropout_cnn_block_two': 0.4254207726825732, 'dropout_dense_block_one': 0.30171726181418695, 'dropout_dense_block_two': 0.5099484017991931}\n",
            "accuracy=0.9299319982528687\n",
            "{'batch_size': 150.0, 'dropout_cnn_block_one': 0.4659257573035161, 'dropout_cnn_block_three': 0.4914197745614892, 'dropout_cnn_block_two': 0.3480249096033353, 'dropout_dense_block_one': 0.3014766380792317, 'dropout_dense_block_two': 0.49267753463401426}\n",
            "accuracy=0.8870748281478882\n",
            "{'batch_size': 160.0, 'dropout_cnn_block_one': 0.43368815378491005, 'dropout_cnn_block_three': 0.3321135489984549, 'dropout_cnn_block_two': 0.4189322831598171, 'dropout_dense_block_one': 0.3925922012249548, 'dropout_dense_block_two': 0.5992282754048792}\n",
            "accuracy=0.9278911352157593\n",
            "{'batch_size': 140.0, 'dropout_cnn_block_one': 0.377225239788745, 'dropout_cnn_block_three': 0.37012938118878663, 'dropout_cnn_block_two': 0.45326636870948184, 'dropout_dense_block_one': 0.30976474676013677, 'dropout_dense_block_two': 0.5090178435762251}\n",
            "accuracy=0.9410430788993835\n",
            "{'batch_size': 160.0, 'dropout_cnn_block_one': 0.4646827149467583, 'dropout_cnn_block_three': 0.42979101549361176, 'dropout_cnn_block_two': 0.34261670915026554, 'dropout_dense_block_one': 0.3987646243894039, 'dropout_dense_block_two': 0.6978187622355355}\n",
            "accuracy=0.8913832306861877\n",
            "{'batch_size': 140.0, 'dropout_cnn_block_one': 0.3057887573152147, 'dropout_cnn_block_three': 0.4127520269242182, 'dropout_cnn_block_two': 0.4088599154038427, 'dropout_dense_block_one': 0.4929470579467652, 'dropout_dense_block_two': 0.3943102836020774}\n",
            "accuracy=0.9532879590988159\n",
            "{'batch_size': 160.0, 'dropout_cnn_block_one': 0.42816920026643956, 'dropout_cnn_block_three': 0.34472820989664943, 'dropout_cnn_block_two': 0.44756145167141076, 'dropout_dense_block_one': 0.3999350608947792, 'dropout_dense_block_two': 0.48823751535033527}\n",
            "accuracy=0.9054421782493591\n",
            "{'batch_size': 140.0, 'dropout_cnn_block_one': 0.44813003163949966, 'dropout_cnn_block_three': 0.37996981938649843, 'dropout_cnn_block_two': 0.359680830341351, 'dropout_dense_block_one': 0.32336852616562706, 'dropout_dense_block_two': 0.5921450116816303}\n",
            "accuracy=0.9396825432777405\n",
            "{'batch_size': 180.0, 'dropout_cnn_block_one': 0.4828767377653797, 'dropout_cnn_block_three': 0.4039814227469277, 'dropout_cnn_block_two': 0.40328443923772084, 'dropout_dense_block_one': 0.380293631209761, 'dropout_dense_block_two': 0.45999249762156297}\n",
            "accuracy=0.900907039642334\n",
            "{'batch_size': 150.0, 'dropout_cnn_block_one': 0.3956421199884743, 'dropout_cnn_block_three': 0.47641152610292814, 'dropout_cnn_block_two': 0.3627890785982941, 'dropout_dense_block_one': 0.5061762708162874, 'dropout_dense_block_two': 0.5341157773083843}\n",
            "accuracy=0.9555555582046509\n",
            "100%|██████████| 30/30 [05:33<00:00, 11.13s/it, best loss: -0.9712018370628357]\n"
          ],
          "name": "stdout"
        }
      ]
    },
    {
      "cell_type": "code",
      "metadata": {
        "id": "_9GBveaX7eJb",
        "colab_type": "code",
        "colab": {}
      },
      "source": [
        ""
      ],
      "execution_count": 0,
      "outputs": []
    }
  ]
}